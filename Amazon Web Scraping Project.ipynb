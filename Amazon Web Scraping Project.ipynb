{
 "cells": [
  {
   "cell_type": "code",
   "execution_count": 2,
   "id": "936727fa",
   "metadata": {},
   "outputs": [],
   "source": [
    "# Import liabraries\n",
    "\n",
    "from bs4 import BeautifulSoup\n",
    "import requests\n",
    "import time\n",
    "import pandas as pd\n",
    "import datetime\n",
    "\n",
    "import smtplib"
   ]
  },
  {
   "cell_type": "code",
   "execution_count": 3,
   "id": "f320fc89",
   "metadata": {},
   "outputs": [
    {
     "name": "stdout",
     "output_type": "stream",
     "text": [
      "Men's halfsleevs Casual T-Shirt | YMXIND_11\n",
      "\n",
      "Price: 7,347.00\n"
     ]
    }
   ],
   "source": [
    "# Connect to website\n",
    "\n",
    "URL = \"https://www.amazon.in/halfsleevs-Casual-T-Shirt-YMXIND_11_10XL-Multicolour/dp/B0BFJCTJ6C/ref=sr_1_1_sspa?keywords=t-shirt+for+men&qid=1671283356&refinements=p_36%3A300000-&rnid=4595083031&s=apparel&sprefix=tshir%2Caps%2C299&sr=1-1-spons&sp_csd=d2lkZ2V0TmFtZT1zcF9hdGY&psc=1\"\n",
    "headers = {\"User-Agent\": \"Mozilla/5.0 (Windows NT 10.0; Win64; x64) AppleWebKit/537.36 (KHTML, like Gecko) Chrome/108.0.0.0 Safari/537.36\"}\n",
    "\n",
    "page = requests.get(URL, headers=headers)\n",
    "\n",
    "soup = BeautifulSoup(page.content, \"html.parser\")\n",
    "soup1 = BeautifulSoup(soup.prettify(), \"html.parser\")\n",
    "\n",
    "title = soup1.find(id = \"productTitle\").text.strip()\n",
    "price = soup1.find(class_ = \"a-offscreen\").text.strip()[1:]\n",
    "print(title+\"\\n\")\n",
    "print(\"Price:\", price)"
   ]
  },
  {
   "cell_type": "code",
   "execution_count": 4,
   "id": "b824b110",
   "metadata": {},
   "outputs": [
    {
     "name": "stdout",
     "output_type": "stream",
     "text": [
      "2022-12-17\n"
     ]
    }
   ],
   "source": [
    "today = datetime.date.today()\n",
    "print(today)"
   ]
  },
  {
   "cell_type": "code",
   "execution_count": 5,
   "id": "c3300d83",
   "metadata": {},
   "outputs": [],
   "source": [
    "import csv\n",
    "\n",
    "header = [\"Title\", \"Price\", \"Date\"]\n",
    "data = [title, price, today]\n",
    "\n",
    "with open(\"AmazonWebScraperDataSet.csv\", \"w\", newline='', encoding=\"utf8\") as f:\n",
    "    writer = csv.writer(f)\n",
    "    writer.writerow(header)\n",
    "    writer.writerow(data)"
   ]
  },
  {
   "cell_type": "code",
   "execution_count": 6,
   "id": "591f03c1",
   "metadata": {},
   "outputs": [
    {
     "data": {
      "text/html": [
       "<div>\n",
       "<style scoped>\n",
       "    .dataframe tbody tr th:only-of-type {\n",
       "        vertical-align: middle;\n",
       "    }\n",
       "\n",
       "    .dataframe tbody tr th {\n",
       "        vertical-align: top;\n",
       "    }\n",
       "\n",
       "    .dataframe thead th {\n",
       "        text-align: right;\n",
       "    }\n",
       "</style>\n",
       "<table border=\"1\" class=\"dataframe\">\n",
       "  <thead>\n",
       "    <tr style=\"text-align: right;\">\n",
       "      <th></th>\n",
       "      <th>Title</th>\n",
       "      <th>Price</th>\n",
       "      <th>Date</th>\n",
       "    </tr>\n",
       "  </thead>\n",
       "  <tbody>\n",
       "    <tr>\n",
       "      <th>0</th>\n",
       "      <td>Men's halfsleevs Casual T-Shirt | YMXIND_11</td>\n",
       "      <td>7,347.00</td>\n",
       "      <td>2022-12-17</td>\n",
       "    </tr>\n",
       "  </tbody>\n",
       "</table>\n",
       "</div>"
      ],
      "text/plain": [
       "                                         Title     Price        Date\n",
       "0  Men's halfsleevs Casual T-Shirt | YMXIND_11  7,347.00  2022-12-17"
      ]
     },
     "execution_count": 6,
     "metadata": {},
     "output_type": "execute_result"
    }
   ],
   "source": [
    "pd.read_csv(\"AmazonWebScraperDataSet.csv\")"
   ]
  },
  {
   "cell_type": "code",
   "execution_count": 7,
   "id": "5e9f396d",
   "metadata": {},
   "outputs": [],
   "source": [
    "# Appending data to csv\n",
    "\n",
    "with open(\"AmazonWebScraperDataSet.csv\", \"a+\", newline='', encoding=\"utf8\") as f:\n",
    "    writer = csv.writer(f)\n",
    "    writer.writerow(data)"
   ]
  },
  {
   "cell_type": "code",
   "execution_count": 8,
   "id": "624e0ef4",
   "metadata": {},
   "outputs": [],
   "source": [
    "# Combine all of the above code in one functionb\n",
    "\n",
    "def check_price():\n",
    "    URL = \"https://www.amazon.in/halfsleevs-Casual-T-Shirt-YMXIND_11_10XL-Multicolour/dp/B0BFJCTJ6C/ref=sr_1_1_sspa?keywords=t-shirt+for+men&qid=1671283356&refinements=p_36%3A300000-&rnid=4595083031&s=apparel&sprefix=tshir%2Caps%2C299&sr=1-1-spons&sp_csd=d2lkZ2V0TmFtZT1zcF9hdGY&psc=1\"\n",
    "    headers = {\"User-Agent\": \"Mozilla/5.0 (Windows NT 10.0; Win64; x64) AppleWebKit/537.36 (KHTML, like Gecko) Chrome/108.0.0.0 Safari/537.36\"}\n",
    "\n",
    "    page = requests.get(URL, headers=headers)\n",
    "\n",
    "    soup = BeautifulSoup(page.content, \"html.parser\")\n",
    "    soup1 = BeautifulSoup(soup.prettify(), \"html.parser\")\n",
    "\n",
    "    title = soup1.find(id = \"productTitle\").text.strip()\n",
    "    price = soup1.find(class_ = \"a-offscreen\").text.strip()[1:]\n",
    "    \n",
    "    today = datetime.date.today()\n",
    "    \n",
    "    import csv\n",
    "\n",
    "    header = [\"Title\", \"Price\", \"Date\"]\n",
    "    data = [title, price, today]\n",
    "    \n",
    "    with open(\"AmazonWebScraperDataSet.csv\", \"a+\", newline='', encoding=\"utf8\") as f:\n",
    "        writer = csv.writer(f)\n",
    "        writer.writerow(data)\n",
    "        \n",
    "    if (price<=\"5000\"):\n",
    "        send_mail()"
   ]
  },
  {
   "cell_type": "code",
   "execution_count": null,
   "id": "fe51e599",
   "metadata": {},
   "outputs": [],
   "source": [
    "# Call the function after a set time and input data to your csv\n",
    "\n",
    "while(True):\n",
    "    check_price()\n",
    "    time.sleep(86400)"
   ]
  },
  {
   "cell_type": "code",
   "execution_count": 11,
   "id": "9040c37a",
   "metadata": {},
   "outputs": [
    {
     "data": {
      "text/html": [
       "<div>\n",
       "<style scoped>\n",
       "    .dataframe tbody tr th:only-of-type {\n",
       "        vertical-align: middle;\n",
       "    }\n",
       "\n",
       "    .dataframe tbody tr th {\n",
       "        vertical-align: top;\n",
       "    }\n",
       "\n",
       "    .dataframe thead th {\n",
       "        text-align: right;\n",
       "    }\n",
       "</style>\n",
       "<table border=\"1\" class=\"dataframe\">\n",
       "  <thead>\n",
       "    <tr style=\"text-align: right;\">\n",
       "      <th></th>\n",
       "      <th>Title</th>\n",
       "      <th>Price</th>\n",
       "      <th>Date</th>\n",
       "    </tr>\n",
       "  </thead>\n",
       "  <tbody>\n",
       "    <tr>\n",
       "      <th>0</th>\n",
       "      <td>Men's halfsleevs Casual T-Shirt | YMXIND_11</td>\n",
       "      <td>7,347.00</td>\n",
       "      <td>2022-12-17</td>\n",
       "    </tr>\n",
       "    <tr>\n",
       "      <th>1</th>\n",
       "      <td>Men's halfsleevs Casual T-Shirt | YMXIND_11</td>\n",
       "      <td>7,347.00</td>\n",
       "      <td>2022-12-17</td>\n",
       "    </tr>\n",
       "  </tbody>\n",
       "</table>\n",
       "</div>"
      ],
      "text/plain": [
       "                                         Title     Price        Date\n",
       "0  Men's halfsleevs Casual T-Shirt | YMXIND_11  7,347.00  2022-12-17\n",
       "1  Men's halfsleevs Casual T-Shirt | YMXIND_11  7,347.00  2022-12-17"
      ]
     },
     "execution_count": 11,
     "metadata": {},
     "output_type": "execute_result"
    }
   ],
   "source": [
    "pd.read_csv(\"AmazonWebScraperDataSet.csv\")"
   ]
  },
  {
   "cell_type": "code",
   "execution_count": 10,
   "id": "2d0a8d02",
   "metadata": {},
   "outputs": [],
   "source": [
    "def send_mail():\n",
    "    server = smtplib.SMTP_SSL(\"smtp.gamil.com\", 465)\n",
    "    server.ehlo()\n",
    "    #server.starttls()\n",
    "    server.login(\"ompdhakar27@gmail.com\", \"xxxxxxxxxxxx\")\n",
    "    \n",
    "    subject = \"The t-shirt you want is below 5000! Now is your chance to buy.\"\n",
    "    body = \"Omprakash, This is the moment we have been waiting for. Now is your chance to pick up the shirt of your dreams. Don't mess it up! \\\n",
    "            Link here: https://www.amazon.com/Funny-Data-Systems-Business-Analyst/dp/B07FNW9FGJ/ref=sr_1_3?dchild=1&keywords=data+analyst+tshirt&qid=1626655184&sr=8-3\"\n",
    "    \n",
    "    msg = f\"subject: {subject}\\n\\n{body}\"\n",
    "    \n",
    "    server.sendmail(\"ompdhakar27@gmail.com\", msg)"
   ]
  },
  {
   "cell_type": "code",
   "execution_count": null,
   "id": "13dca8cc",
   "metadata": {},
   "outputs": [],
   "source": []
  }
 ],
 "metadata": {
  "kernelspec": {
   "display_name": "Python 3 (ipykernel)",
   "language": "python",
   "name": "python3"
  },
  "language_info": {
   "codemirror_mode": {
    "name": "ipython",
    "version": 3
   },
   "file_extension": ".py",
   "mimetype": "text/x-python",
   "name": "python",
   "nbconvert_exporter": "python",
   "pygments_lexer": "ipython3",
   "version": "3.9.13"
  }
 },
 "nbformat": 4,
 "nbformat_minor": 5
}
